{
 "cells": [
  {
   "cell_type": "code",
   "execution_count": 1,
   "id": "1b2e70a9-18e5-47fb-8909-b6332ca40531",
   "metadata": {},
   "outputs": [],
   "source": [
    "import numpy as np\n",
    "import matplotlib.pyplot as plt\n",
    "\n",
    "def is_psd(matrix):\n",
    "    eigenvalues = np.linalg.eigvalsh(matrix)\n",
    "    return np.all(eigenvalues >= 0)\n",
    "\n",
    "def anharmonics_xp(E, xsq, size):\n",
    "    xp = np.zeros((max(2*size - 1, 8), 2*size - 1))\n",
    "    xp[0][0] = 1\n",
    "    xp[2][0] = xsq\n",
    "    for i in range(4, max(2*size - 1, 8)):\n",
    "        xp[i][0] = ((i - 2)*xp[i - 2][0] + (i - 3)*xp[i - 4][0]*E)/(i - 1)\n",
    "    for j in range(2, 2*size - 1):\n",
    "        for i in range(0, 4):\n",
    "            xp[i][j] = E*xp[i][j - 2] + xp[i + 2][j - 2] - xp[i+4][j - 2]\n",
    "        for i in range(4, 2*size - 1):\n",
    "            xp[i][j] = ((i + j - 2)*xp[i - 2][j] + E*(i - 3)*xp[i - 4][j])/(i + 2*j - 1)\n",
    "    mat = np.zeros((size*size, size*size))\n",
    "    for i in range(0, size*size):\n",
    "        for j in range(i, size*size):\n",
    "            b = i % size\n",
    "            a = i // size\n",
    "            d = j % size\n",
    "            c = j // size\n",
    "            mat[i][j] = xp[a + c][b + d]\n",
    "            mat[j][i] = xp[a + c][b + d]\n",
    "    return mat, xp"
   ]
  },
  {
   "cell_type": "code",
   "execution_count": 2,
   "id": "59ead61d-fd97-43ae-ad7c-92e5f86a1058",
   "metadata": {},
   "outputs": [],
   "source": [
    "mat, xp = anharmonics_xp(1, 1, 3)"
   ]
  },
  {
   "cell_type": "code",
   "execution_count": 3,
   "id": "b7425cee-da8c-4b71-8a78-122aac4a0849",
   "metadata": {},
   "outputs": [
    {
     "data": {
      "text/plain": [
       "array([[1.        , 0.        , 1.        , 0.        , 0.        ,\n",
       "        0.        , 1.        , 0.        , 0.6       ],\n",
       "       [0.        , 1.        , 0.        , 0.        , 0.        ,\n",
       "        0.        , 0.        , 0.6       , 0.        ],\n",
       "       [1.        , 0.        , 1.11428571, 0.        , 0.        ,\n",
       "        0.        , 0.6       , 0.        , 1.08571429],\n",
       "       [0.        , 0.        , 0.        , 1.        , 0.        ,\n",
       "        0.6       , 0.        , 0.        , 0.        ],\n",
       "       [0.        , 0.        , 0.        , 0.        , 0.6       ,\n",
       "        0.        , 0.        , 0.        , 0.        ],\n",
       "       [0.        , 0.        , 0.        , 0.6       , 0.        ,\n",
       "        1.08571429, 0.        , 0.        , 0.        ],\n",
       "       [1.        , 0.        , 0.6       , 0.        , 0.        ,\n",
       "        0.        , 1.        , 0.        , 0.48571429],\n",
       "       [0.        , 0.6       , 0.        , 0.        , 0.        ,\n",
       "        0.        , 0.        , 0.48571429, 0.        ],\n",
       "       [0.6       , 0.        , 1.08571429, 0.        , 0.        ,\n",
       "        0.        , 0.48571429, 0.        , 0.69350649]])"
      ]
     },
     "execution_count": 3,
     "metadata": {},
     "output_type": "execute_result"
    }
   ],
   "source": [
    "mat"
   ]
  },
  {
   "cell_type": "code",
   "execution_count": 4,
   "id": "7b6b4c6d-c9e6-48ad-bd7a-9067ca1b154c",
   "metadata": {},
   "outputs": [
    {
     "data": {
      "text/plain": [
       "array([[1.        , 0.        , 1.        , 0.        , 1.11428571],\n",
       "       [0.        , 0.        , 0.        , 0.        , 0.        ],\n",
       "       [1.        , 0.        , 0.6       , 0.        , 1.08571429],\n",
       "       [0.        , 0.        , 0.        , 0.        , 0.        ],\n",
       "       [1.        , 0.        , 0.48571429, 0.        , 0.69350649],\n",
       "       [0.        , 0.        , 0.        , 0.        , 0.        ],\n",
       "       [1.4       , 0.        , 0.        , 0.        , 0.        ],\n",
       "       [0.        , 0.        , 0.        , 0.        , 0.        ]])"
      ]
     },
     "execution_count": 4,
     "metadata": {},
     "output_type": "execute_result"
    }
   ],
   "source": [
    "xp"
   ]
  },
  {
   "cell_type": "code",
   "execution_count": null,
   "id": "1e69ab52-7ece-4633-9f1f-a37856d07555",
   "metadata": {},
   "outputs": [],
   "source": []
  }
 ],
 "metadata": {
  "kernelspec": {
   "display_name": "Python 3 (ipykernel)",
   "language": "python",
   "name": "python3"
  },
  "language_info": {
   "codemirror_mode": {
    "name": "ipython",
    "version": 3
   },
   "file_extension": ".py",
   "mimetype": "text/x-python",
   "name": "python",
   "nbconvert_exporter": "python",
   "pygments_lexer": "ipython3",
   "version": "3.12.0"
  }
 },
 "nbformat": 4,
 "nbformat_minor": 5
}
